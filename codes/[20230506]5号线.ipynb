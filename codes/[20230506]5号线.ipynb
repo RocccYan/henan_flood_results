{
 "cells": [
  {
   "cell_type": "code",
   "execution_count": 1,
   "id": "c76466d9",
   "metadata": {
    "ExecuteTime": {
     "end_time": "2022-11-22T08:06:55.887728Z",
     "start_time": "2022-11-22T08:06:55.342447Z"
    }
   },
   "outputs": [],
   "source": [
    "import numpy as np\n",
    "import pandas as pd\n",
    "import time\n",
    "from matplotlib import pyplot as plt\n",
    "from utils import *\n",
    "import random"
   ]
  },
  {
   "cell_type": "code",
   "execution_count": 2,
   "id": "6df60222-9048-416f-8f0b-e3395cd3bd7e",
   "metadata": {
    "ExecuteTime": {
     "end_time": "2022-11-22T08:06:56.633477Z",
     "start_time": "2022-11-22T08:06:56.222566Z"
    }
   },
   "outputs": [],
   "source": [
    "from sklearn.decomposition import PCA\n",
    "#TSNE\n",
    "from sklearn.manifold import TSNE\n",
    "# import umap.umap_ as umap"
   ]
  },
  {
   "cell_type": "code",
   "execution_count": 3,
   "id": "5d183d49-d5e3-4b6a-a178-e7427e7f91ac",
   "metadata": {
    "ExecuteTime": {
     "end_time": "2022-11-22T08:06:57.166624Z",
     "start_time": "2022-11-22T08:06:57.162353Z"
    }
   },
   "outputs": [],
   "source": [
    "import matplotlib\n",
    "matplotlib.rcParams['font.sans-serif']=['SimSun','KaiTi','SimHei','FangSong']   # 用黑体显示中文\n",
    "matplotlib.rcParams['axes.unicode_minus']=False \n",
    "\n",
    "from matplotlib.lines import Line2D"
   ]
  },
  {
   "cell_type": "code",
   "execution_count": 4,
   "id": "9a9587f6",
   "metadata": {
    "ExecuteTime": {
     "end_time": "2022-11-22T08:06:57.674048Z",
     "start_time": "2022-11-22T08:06:57.669153Z"
    }
   },
   "outputs": [],
   "source": [
    "import re"
   ]
  },
  {
   "cell_type": "code",
   "execution_count": 5,
   "id": "cf9c8d27",
   "metadata": {
    "ExecuteTime": {
     "end_time": "2022-11-22T08:06:58.079172Z",
     "start_time": "2022-11-22T08:06:58.073984Z"
    }
   },
   "outputs": [],
   "source": [
    "import warnings\n",
    "warnings.filterwarnings('ignore')"
   ]
  },
  {
   "cell_type": "code",
   "execution_count": 6,
   "id": "2965ac3d",
   "metadata": {
    "ExecuteTime": {
     "end_time": "2022-11-22T08:06:58.557714Z",
     "start_time": "2022-11-22T08:06:58.542987Z"
    },
    "code_folding": [
     0,
     10,
     17,
     30,
     36
    ]
   },
   "outputs": [],
   "source": [
    "def get_topic_label(topic_code, topic_lv=1):\n",
    "    topic = '空'\n",
    "    if topic_lv == 1:\n",
    "        topic_I_mapper = {'A':'援助信息','B':'救援需求信息','C':'事件基本信息','D':'建筑设施及公共事业','E':'应急行动进展','F':'预警与建议','G':'公众舆情','H':'其他','NULL':'NULL'}\n",
    "        topic = topic_I_mapper.get(topic_code[:1],'空')\n",
    "    elif topic_lv == 2:\n",
    "        topic_II_mapper = {'B1':'一般救援需求','B2':'生活物资需求','B3':'寻人需求','B4':'紧急转移需求',}\n",
    "        topic = topic_II_mapper.get(topic_code,'空')\n",
    "    return topic\n",
    "\n",
    "def get_topic_code(topics_dict):\n",
    "    topic_code = 'X'\n",
    "    topics_mapper = open_json('./data/results/topics_mapping0312.json')\n",
    "    if topics_dict:\n",
    "        topic_code = sorted(list(topics_dict.items()), key=lambda x:x[1], reverse=True)[0][0]\n",
    "    return topics_mapper[topic_code][1]\n",
    "\n",
    "def mapping_phases(date,phases_mapper):\n",
    "    date = str(date)[:10]\n",
    "    if date <= phases_mapper['0'][1]:\n",
    "        return '0'\n",
    "    elif date <= phases_mapper['1'][1]:\n",
    "        return '1'\n",
    "    elif date <= phases_mapper['2'][1]:\n",
    "        return '2'\n",
    "    elif date <= phases_mapper['3'][1]:\n",
    "        return '3'\n",
    "    else:\n",
    "        return '-1'\n",
    "    \n",
    "def get_sentiment_label(sentiments, label_mapper):\n",
    "    senti = 'NULL'\n",
    "    if sentiments:\n",
    "        senti = label_mapper[np.argmax(np.array(sentiments))]\n",
    "    return senti\n",
    "\n",
    "def refine_topic(content):\n",
    "    if isinstance(content, str):\n",
    "        if re.findall(\"求救|被困\", content):\n",
    "            return \"紧急转移需求\"\n",
    "        elif re.findall(\"急需\", content):\n",
    "            return \"生活物资需求\"\n",
    "        elif re.findall(\"求助\", content):\n",
    "            return \"一般救援需求\"\n",
    "        elif re.findall(\"搜救|搜寻|寻人|失联\", content):\n",
    "            return \"寻人需求\"\n",
    "    else:\n",
    "        return None"
   ]
  },
  {
   "cell_type": "code",
   "execution_count": 7,
   "id": "d601f936-830a-4359-bd96-d92978f9c04f",
   "metadata": {
    "ExecuteTime": {
     "end_time": "2022-11-22T08:06:59.620773Z",
     "start_time": "2022-11-22T08:06:59.615857Z"
    }
   },
   "outputs": [
    {
     "name": "stdout",
     "output_type": "stream",
     "text": [
      "workspace has been set at /Users/roccc/Desktop/Projects/HenanFlood.\n"
     ]
    }
   ],
   "source": [
    "set_workspace('/Users/roccc/Desktop/Projects/HenanFlood')"
   ]
  },
  {
   "cell_type": "markdown",
   "id": "68d35572",
   "metadata": {},
   "source": [
    "## load and prepare data "
   ]
  },
  {
   "cell_type": "markdown",
   "id": "1e91bc0b",
   "metadata": {},
   "source": [
    "### load embeddings"
   ]
  },
  {
   "cell_type": "code",
   "execution_count": 8,
   "id": "d6946b0b",
   "metadata": {
    "ExecuteTime": {
     "end_time": "2022-11-22T08:07:17.964474Z",
     "start_time": "2022-11-22T08:07:17.926298Z"
    }
   },
   "outputs": [],
   "source": [
    "emb = open_json('./data/emb_gatne/filtered_cleaned_emb_Kqv0ZBxGy_2.json')"
   ]
  },
  {
   "cell_type": "code",
   "execution_count": 9,
   "id": "18262ea5",
   "metadata": {
    "ExecuteTime": {
     "end_time": "2022-11-22T08:07:18.633728Z",
     "start_time": "2022-11-22T08:07:18.629360Z"
    }
   },
   "outputs": [],
   "source": [
    "emb = dict(filter(lambda x: x[1]!='0', emb.items()))"
   ]
  },
  {
   "cell_type": "code",
   "execution_count": 10,
   "id": "e9cb3b7e",
   "metadata": {
    "ExecuteTime": {
     "end_time": "2022-11-22T08:07:19.267848Z",
     "start_time": "2022-11-22T08:07:19.259838Z"
    }
   },
   "outputs": [],
   "source": [
    "emb_df = pd.concat([pd.Series(emb),],\n",
    "                    axis=1)"
   ]
  },
  {
   "cell_type": "code",
   "execution_count": 11,
   "id": "272b9dc4-6cc8-4589-a31a-412a300e5605",
   "metadata": {
    "ExecuteTime": {
     "end_time": "2022-11-22T08:07:20.614666Z",
     "start_time": "2022-11-22T08:07:20.608714Z"
    }
   },
   "outputs": [],
   "source": [
    "emb_df.dropna(inplace=True)"
   ]
  },
  {
   "cell_type": "markdown",
   "id": "75c04b4e",
   "metadata": {},
   "source": [
    "### labels"
   ]
  },
  {
   "cell_type": "code",
   "execution_count": 12,
   "id": "82acccd5-b043-480c-94b8-543477fbcd7b",
   "metadata": {
    "ExecuteTime": {
     "end_time": "2022-11-22T08:07:23.076312Z",
     "start_time": "2022-11-22T08:07:21.323846Z"
    }
   },
   "outputs": [],
   "source": [
    "nodes_labels = open_json('./data/results/nodes_with_attributes.json')"
   ]
  },
  {
   "cell_type": "code",
   "execution_count": 13,
   "id": "9cd68fc6-c037-4080-9bf4-d2cf921af14d",
   "metadata": {
    "ExecuteTime": {
     "end_time": "2022-11-22T08:07:28.860707Z",
     "start_time": "2022-11-22T08:07:23.077311Z"
    }
   },
   "outputs": [],
   "source": [
    "nodes_labels = json.loads(nodes_labels)"
   ]
  },
  {
   "cell_type": "code",
   "execution_count": 14,
   "id": "b7e17b0d-662b-4ec6-bdba-c3523d549afb",
   "metadata": {
    "ExecuteTime": {
     "end_time": "2022-11-22T08:07:31.417363Z",
     "start_time": "2022-11-22T08:07:28.861632Z"
    }
   },
   "outputs": [],
   "source": [
    "nodes_labels_df = pd.DataFrame.from_dict(nodes_labels,orient='index')"
   ]
  },
  {
   "cell_type": "code",
   "execution_count": 15,
   "id": "00756a6f",
   "metadata": {
    "ExecuteTime": {
     "end_time": "2022-11-22T08:07:31.820547Z",
     "start_time": "2022-11-22T08:07:31.418837Z"
    }
   },
   "outputs": [],
   "source": [
    "contents_list = open_json('./data/cleaned_data/weibos_content_1124.json')\n",
    "contents = dict(map(lambda x: (x.get('weibo_id'),x.get('content')), contents_list))"
   ]
  },
  {
   "cell_type": "code",
   "execution_count": 16,
   "id": "073ecbeb",
   "metadata": {
    "ExecuteTime": {
     "end_time": "2022-11-22T08:07:31.823027Z",
     "start_time": "2022-11-22T08:07:31.821370Z"
    },
    "code_folding": [
     0
    ]
   },
   "outputs": [],
   "source": [
    "phases = {\n",
    "    '0': ['2021-07-10', '2021-07-19'],\n",
    "    '1': ['2021-07-20', '2021-07-24'],\n",
    "    '2': ['2021-07-25', '2021-07-30'],\n",
    "    '3': ['2021-07-31', '2021-08-31']\n",
    "}"
   ]
  },
  {
   "cell_type": "markdown",
   "id": "dfad9851-acd7-4d70-8036-c07a69efef8e",
   "metadata": {},
   "source": [
    "### merge into samples"
   ]
  },
  {
   "cell_type": "code",
   "execution_count": 17,
   "id": "094793d9",
   "metadata": {
    "ExecuteTime": {
     "end_time": "2022-11-22T08:07:32.051665Z",
     "start_time": "2022-11-22T08:07:31.931631Z"
    }
   },
   "outputs": [],
   "source": [
    "emb_df['content'] = emb_df.index.map(contents)"
   ]
  },
  {
   "cell_type": "code",
   "execution_count": 18,
   "id": "a06baa48-09c6-4067-aecb-aa3888a40d66",
   "metadata": {
    "ExecuteTime": {
     "end_time": "2022-11-22T08:07:32.443913Z",
     "start_time": "2022-11-22T08:07:32.222676Z"
    }
   },
   "outputs": [],
   "source": [
    "emb_df['sentiment_raw'] = emb_df.index.map(nodes_labels_df['sentiment'])"
   ]
  },
  {
   "cell_type": "code",
   "execution_count": 19,
   "id": "7289dec4-8e20-4e54-817f-9c255f257344",
   "metadata": {
    "ExecuteTime": {
     "end_time": "2022-11-22T08:07:32.533903Z",
     "start_time": "2022-11-22T08:07:32.530939Z"
    }
   },
   "outputs": [],
   "source": [
    "emb_df['topic_raw'] = emb_df.index.map(nodes_labels_df['topic'])"
   ]
  },
  {
   "cell_type": "code",
   "execution_count": 20,
   "id": "3219295f-9e63-42d6-8981-c536a41e7cf6",
   "metadata": {
    "ExecuteTime": {
     "end_time": "2022-11-22T08:07:32.791437Z",
     "start_time": "2022-11-22T08:07:32.786437Z"
    }
   },
   "outputs": [],
   "source": [
    "emb_df['label_type'] = emb_df.index.map(nodes_labels_df['label_type'])"
   ]
  },
  {
   "cell_type": "markdown",
   "id": "e3d7f453",
   "metadata": {},
   "source": [
    "#### merge date and phase"
   ]
  },
  {
   "cell_type": "code",
   "execution_count": 21,
   "id": "b2727bc7",
   "metadata": {
    "ExecuteTime": {
     "end_time": "2022-11-22T08:07:38.258082Z",
     "start_time": "2022-11-22T08:07:33.844119Z"
    }
   },
   "outputs": [],
   "source": [
    "time_info = get_date_info()"
   ]
  },
  {
   "cell_type": "code",
   "execution_count": 22,
   "id": "2c30c35a",
   "metadata": {
    "ExecuteTime": {
     "end_time": "2022-11-22T08:07:39.136730Z",
     "start_time": "2022-11-22T08:07:38.259337Z"
    }
   },
   "outputs": [],
   "source": [
    "emb_df['date'] = emb_df.index.map(time_info)"
   ]
  },
  {
   "cell_type": "code",
   "execution_count": 23,
   "id": "6baaabd3",
   "metadata": {
    "ExecuteTime": {
     "end_time": "2022-11-22T08:07:39.140720Z",
     "start_time": "2022-11-22T08:07:39.137539Z"
    }
   },
   "outputs": [],
   "source": [
    "emb_df['phase'] = emb_df['date'].apply(lambda x:mapping_phases(x, phases))"
   ]
  },
  {
   "cell_type": "markdown",
   "id": "3751bd4a-8ae2-49a0-856c-ebe5f914e2c8",
   "metadata": {},
   "source": [
    "### extract label of topic and sentiment."
   ]
  },
  {
   "cell_type": "markdown",
   "id": "96d07d88-7f08-4ab4-9335-5637b7c8b1eb",
   "metadata": {},
   "source": [
    "#### sentiments"
   ]
  },
  {
   "cell_type": "code",
   "execution_count": 24,
   "id": "ed6ca1ce-bbcd-42fc-8970-e89156615d91",
   "metadata": {
    "ExecuteTime": {
     "end_time": "2022-11-22T08:07:39.143694Z",
     "start_time": "2022-11-22T08:07:39.142108Z"
    },
    "tags": []
   },
   "outputs": [],
   "source": [
    "sentiment_label_mapping = {'愤怒':0,'积极':1,'中性':2,'惊奇':3,'恐惧':4,'悲伤':5}\n",
    "label_mapping_r = dict(map(lambda x: (x[1],x[0]), sentiment_label_mapping.items() ))"
   ]
  },
  {
   "cell_type": "code",
   "execution_count": 25,
   "id": "b7ffe3b6-757f-4ef8-ae3a-f9cce679d9a1",
   "metadata": {
    "ExecuteTime": {
     "end_time": "2022-11-22T08:07:39.148361Z",
     "start_time": "2022-11-22T08:07:39.144250Z"
    }
   },
   "outputs": [],
   "source": [
    "emb_df['sentiment'] = emb_df['sentiment_raw'].apply(get_sentiment_label, label_mapper=label_mapping_r)"
   ]
  },
  {
   "cell_type": "markdown",
   "id": "b0103cdc-d904-4c4b-9c03-193ab3de0cb9",
   "metadata": {},
   "source": [
    "#### topics"
   ]
  },
  {
   "cell_type": "code",
   "execution_count": 26,
   "id": "9d4462cf",
   "metadata": {
    "ExecuteTime": {
     "end_time": "2022-11-22T08:07:39.169619Z",
     "start_time": "2022-11-22T08:07:39.148956Z"
    }
   },
   "outputs": [],
   "source": [
    "emb_df['topic_code'] = emb_df['topic_raw'].apply(get_topic_code)"
   ]
  },
  {
   "cell_type": "code",
   "execution_count": 27,
   "id": "7aebf372",
   "metadata": {
    "ExecuteTime": {
     "end_time": "2022-11-22T08:07:39.172110Z",
     "start_time": "2022-11-22T08:07:39.170459Z"
    }
   },
   "outputs": [],
   "source": [
    "# emb_df['topic_code'].value_counts()\n",
    "# emb_df.drop(['topic_I','topic_II'],axis=1, inplace=True)"
   ]
  },
  {
   "cell_type": "code",
   "execution_count": 28,
   "id": "ceffda44",
   "metadata": {
    "ExecuteTime": {
     "end_time": "2022-11-22T08:07:39.176129Z",
     "start_time": "2022-11-22T08:07:39.172929Z"
    }
   },
   "outputs": [],
   "source": [
    "emb_df['topic_I'] = emb_df.topic_code.apply(get_topic_label, topic_lv=1)\n",
    "emb_df['topic_II'] = emb_df.topic_code.apply(get_topic_label, topic_lv=2)"
   ]
  },
  {
   "cell_type": "code",
   "execution_count": 29,
   "id": "7631b79e",
   "metadata": {
    "ExecuteTime": {
     "end_time": "2022-11-22T08:07:41.249932Z",
     "start_time": "2022-11-22T08:07:41.234453Z"
    }
   },
   "outputs": [
    {
     "data": {
      "text/plain": [
       "空         884\n",
       "一般救援需求     45\n",
       "紧急转移需求     39\n",
       "寻人需求       17\n",
       "生活物资需求     12\n",
       "Name: topic_II, dtype: int64"
      ]
     },
     "execution_count": 29,
     "metadata": {},
     "output_type": "execute_result"
    }
   ],
   "source": [
    "emb_df.topic_II.value_counts()"
   ]
  },
  {
   "cell_type": "code",
   "execution_count": 30,
   "id": "ec37543a",
   "metadata": {
    "ExecuteTime": {
     "end_time": "2022-11-22T08:07:44.623378Z",
     "start_time": "2022-11-22T08:07:44.596751Z"
    }
   },
   "outputs": [],
   "source": [
    "emb_df['topic_II'] = emb_df[['content','topic_II']].apply(lambda x: refine_topic(x[0]) if refine_topic(x[0]) else x[1], axis=1)"
   ]
  },
  {
   "cell_type": "code",
   "execution_count": 31,
   "id": "c871a844",
   "metadata": {
    "ExecuteTime": {
     "end_time": "2022-11-22T08:07:46.712949Z",
     "start_time": "2022-11-22T08:07:46.703453Z"
    }
   },
   "outputs": [
    {
     "data": {
      "text/plain": [
       "空         557\n",
       "紧急转移需求    261\n",
       "一般救援需求     90\n",
       "寻人需求       61\n",
       "生活物资需求     28\n",
       "Name: topic_II, dtype: int64"
      ]
     },
     "execution_count": 31,
     "metadata": {},
     "output_type": "execute_result"
    }
   ],
   "source": [
    "emb_df.topic_II.value_counts()"
   ]
  },
  {
   "cell_type": "code",
   "execution_count": 32,
   "id": "aa4ee48f",
   "metadata": {
    "ExecuteTime": {
     "end_time": "2022-11-22T08:07:50.662542Z",
     "start_time": "2022-11-22T08:07:50.654282Z"
    }
   },
   "outputs": [],
   "source": [
    "emb_df_demand_refine = emb_df[emb_df.topic_II.str.contains(\"需求\")]"
   ]
  },
  {
   "cell_type": "markdown",
   "id": "daa9d026",
   "metadata": {},
   "source": [
    "## 降维并可视化emb"
   ]
  },
  {
   "cell_type": "markdown",
   "id": "bc825a07-2267-4afa-a598-3787a08ec195",
   "metadata": {},
   "source": [
    "定义降维函数，注意调参\n",
    "1. TSNE\n",
    "    - 先pca，不然会很慢\n",
    "    - n_components, 2 or 3\n",
    "    - perplexity, balance the local feature and global feature.\n",
    "    - n_iter, make sure large enough\n",
    "2. UMAP\n",
    "    - n_components, 2 or 3\n",
    "    - n_neighbors, balance the local feature and global feature.\n",
    "    - min_dist, [0,1] distance between nodes.\n",
    "    "
   ]
  },
  {
   "cell_type": "code",
   "execution_count": 33,
   "id": "c547cd7e",
   "metadata": {
    "ExecuteTime": {
     "end_time": "2022-11-22T08:07:53.723128Z",
     "start_time": "2022-11-22T08:07:53.714954Z"
    },
    "code_folding": [
     0
    ]
   },
   "outputs": [],
   "source": [
    "def embeddings_by_dimension(emb_df,dimension):\n",
    "    length = len(emb_df[dimension][0])\n",
    "    # emb_df[dimension] = emb_df[dimension].apply(lambda x: [0]*length if not isinstance(x, list) else x)\n",
    "    emb_df[dimension] = emb_df[dimension].apply(lambda x: [0]*length if not x or len(x)!=length else x)\n",
    "    embeddings = np.hstack(emb_df[dimension].values.tolist()).reshape((emb_df.shape[0],length))\n",
    "    return embeddings"
   ]
  },
  {
   "cell_type": "code",
   "execution_count": 34,
   "id": "67dafd2b-4442-4718-927c-f67974a14705",
   "metadata": {
    "ExecuteTime": {
     "end_time": "2022-11-22T08:07:54.082112Z",
     "start_time": "2022-11-22T08:07:54.073173Z"
    },
    "code_folding": []
   },
   "outputs": [],
   "source": [
    "def tsne(x,init_dim=10,random_state=42,n_components=2,n_iter=3000,perplexity=15):\n",
    "    start = time.time()\n",
    "    pca_ = PCA(n_components=init_dim, random_state=random_state)\n",
    "    pca_result = pca_.fit_transform(x)\n",
    "    # perplexity = x.shape[0]**(0.5)\n",
    "    tsne = TSNE(random_state=random_state, n_components=n_components,verbose=0, perplexity=perplexity, n_iter=n_iter).fit_transform(pca_result)\n",
    "    print('Duration: {} seconds'.format(time.time() - start))\n",
    "    return tsne"
   ]
  },
  {
   "cell_type": "code",
   "execution_count": 35,
   "id": "c0b92690-c3ec-4dda-97b8-63150bdf33c5",
   "metadata": {
    "ExecuteTime": {
     "end_time": "2022-11-22T08:07:54.805679Z",
     "start_time": "2022-11-22T08:07:54.799588Z"
    },
    "code_folding": [
     0
    ]
   },
   "outputs": [],
   "source": [
    "def umap_(x,random_state=42,n_components=2,n_neighbors=100,min_dist=0.01):\n",
    "    start = time.time()\n",
    "    reducer = umap.UMAP(random_state=random_state,n_components=n_components, n_neighbors=n_neighbors,min_dist=min_dist)\n",
    "    embedding = reducer.fit_transform(x)\n",
    "    print('Duration: {} seconds'.format(time.time() - start))\n",
    "    return embedding"
   ]
  },
  {
   "cell_type": "code",
   "execution_count": 1,
   "id": "bad7a6e7",
   "metadata": {
    "ExecuteTime": {
     "end_time": "2022-11-22T08:07:57.375233Z",
     "start_time": "2022-11-22T08:07:57.362566Z"
    },
    "code_folding": [
     0
    ]
   },
   "outputs": [],
   "source": [
    "def visualize_demand(emb_df,x_type,method='tsne',n_neighbors=20,date='',random_state=42):\n",
    "    # data preparetion\n",
    "    print(f\"Job: {x_type}_{method}_{n_neighbors}_{date}...\")\n",
    "    x = embeddings_by_dimension(emb_df,x_type)\n",
    "    \n",
    "    # reduct dimension\n",
    "    if method == 'tsne':\n",
    "        x_ = tsne(x,perplexity=n_neighbors,random_state=random_state)\n",
    "    elif method == 'umap':\n",
    "        x_ = umap_(x,n_neighbors=n_neighbors)\n",
    "    emb_2 = pd.concat([pd.DataFrame(x_,index=emb_df.index),emb_df[['topic_II','sentiment']]],axis=1)\n",
    "    emb_2.to_csv(f'./data/results/dim_reduction/emb_2_{x_type}_{method}_{n_neighbors}.csv', index=True, header=True)\n",
    "\n",
    "    # visualize\n",
    "    marker_map = {'一般救援需求':'o','生活物资需求':'s','寻人需求':'p','紧急转移需求':'v'}\n",
    "    label_cmap = {'一般救援需求':'orange','生活物资需求':'green','寻人需求':'purple','紧急转移需求':'red'}\n",
    "    label = 'topic_II'\n",
    "    \n",
    "    fig, ax = plt.subplots()\n",
    "    for demand_type, marker in marker_map.items():\n",
    "        idx = emb_df['topic_II']== demand_type\n",
    "        scatter1 = ax.scatter(x_[idx,0], x_[idx,1], marker=marker, c=label_cmap[demand_type], \n",
    "                          s=40, linewidths=0.1, edgecolors='black',alpha=0.5)\n",
    "\n",
    "    handles = [Line2D([0], [0], marker='o', color='white', markerfacecolor=v, label=k, markersize=4) for k, v in label_cmap.items()]\n",
    "    ax.legend(title='', handles=handles, bbox_to_anchor=(1, 1), loc='upper left',prop={'size': 6})\n",
    "\n",
    "    plt.show()\n",
    "    fig.savefig(f'./data/results/dim_reduction_demand/demand_{x_type}_{label}_{len(x)}_{method}_{n_neighbors}_{date}_{random_state}.png',dpi=600)\n",
    "    plt.close()"
   ]
  },
  {
   "cell_type": "markdown",
   "id": "b92801b5",
   "metadata": {},
   "source": [
    "### 需求的网络演化 "
   ]
  },
  {
   "cell_type": "code",
   "execution_count": 39,
   "id": "6850dd43",
   "metadata": {
    "ExecuteTime": {
     "end_time": "2022-11-22T08:12:02.193141Z",
     "start_time": "2022-11-22T08:12:02.189074Z"
    }
   },
   "outputs": [],
   "source": [
    "\n",
    "emb_ep = [0,]\n",
    "neighbors = [10,]\n",
    "dates = ['2021-07-20','2021-07-21','2021-07-22','2021-07-23','2021-07-24']"
   ]
  },
  {
   "cell_type": "markdown",
   "id": "9980045c",
   "metadata": {},
   "source": [
    "#### demand"
   ]
  },
  {
   "cell_type": "code",
   "execution_count": 63,
   "id": "6b9accf4",
   "metadata": {
    "ExecuteTime": {
     "end_time": "2022-11-22T08:29:25.191523Z",
     "start_time": "2022-11-22T08:29:19.585142Z"
    }
   },
   "outputs": [
    {
     "name": "stdout",
     "output_type": "stream",
     "text": [
      "col:0, #neighbors:10, date:2021-07-20, #nodes:61\n",
      "Job: 0_tsne_10_2021-07-20_40...\n",
      "Duration: 0.3057851791381836 seconds\n"
     ]
    }
   ],
   "source": [
    "for col in emb_ep:\n",
    "    for neighbor in neighbors:\n",
    "        for date in dates:   \n",
    "            con = (emb_df_demand_refine['date']>= '2021-07-20') & (emb_df_demand_refine['date'] <= date)\n",
    "            print(f\"col:{col}, #neighbors:{neighbor}, date:{date}, #nodes:{sum(con)}\")\n",
    "            visualize_demand(\n",
    "                emb_df_demand_refine[con],\n",
    "                col,\n",
    "                method='tsne',\n",
    "                n_neighbors=neighbor,\n",
    "                date=f'{date}_40',\n",
    "                random_state=42,\n",
    "            )\n",
    "            break"
   ]
  },
  {
   "cell_type": "code",
   "execution_count": null,
   "id": "96b3354f",
   "metadata": {},
   "outputs": [],
   "source": []
  }
 ],
 "metadata": {
  "kernelspec": {
   "display_name": "Python 3.10.4 ('stats')",
   "language": "python",
   "name": "python3"
  },
  "language_info": {
   "codemirror_mode": {
    "name": "ipython",
    "version": 3
   },
   "file_extension": ".py",
   "mimetype": "text/x-python",
   "name": "python",
   "nbconvert_exporter": "python",
   "pygments_lexer": "ipython3",
   "version": "3.10.4"
  },
  "latex_envs": {
   "LaTeX_envs_menu_present": true,
   "autoclose": false,
   "autocomplete": true,
   "bibliofile": "biblio.bib",
   "cite_by": "apalike",
   "current_citInitial": 1,
   "eqLabelWithNumbers": true,
   "eqNumInitial": 1,
   "hotkeys": {
    "equation": "Ctrl-E",
    "itemize": "Ctrl-I"
   },
   "labels_anchors": false,
   "latex_user_defs": false,
   "report_style_numbering": false,
   "user_envs_cfg": false
  },
  "varInspector": {
   "cols": {
    "lenName": 16,
    "lenType": 16,
    "lenVar": 40
   },
   "kernels_config": {
    "python": {
     "delete_cmd_postfix": "",
     "delete_cmd_prefix": "del ",
     "library": "var_list.py",
     "varRefreshCmd": "print(var_dic_list())"
    },
    "r": {
     "delete_cmd_postfix": ") ",
     "delete_cmd_prefix": "rm(",
     "library": "var_list.r",
     "varRefreshCmd": "cat(var_dic_list()) "
    }
   },
   "types_to_exclude": [
    "module",
    "function",
    "builtin_function_or_method",
    "instance",
    "_Feature"
   ],
   "window_display": false
  },
  "vscode": {
   "interpreter": {
    "hash": "afa006ba7cf6c2394ef02bf348e0cab93c4670869222dd3c748ce05a58aeef2a"
   }
  }
 },
 "nbformat": 4,
 "nbformat_minor": 5
}
